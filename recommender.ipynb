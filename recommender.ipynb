{
 "cells": [
  {
   "cell_type": "code",
   "execution_count": 1,
   "metadata": {},
   "outputs": [],
   "source": [
    "import numpy as np\n",
    "import pandas as pd\n",
    "import matplotlib.pyplot as plt\n",
    "import sklearn\n",
    "from sklearn.feature_extraction.text import TfidfVectorizer, CountVectorizer\n",
    "from sklearn.cluster import KMeans"
   ]
  },
  {
   "cell_type": "code",
   "execution_count": 2,
   "metadata": {},
   "outputs": [
    {
     "data": {
      "text/plain": [
       "(509, 4)"
      ]
     },
     "execution_count": 2,
     "metadata": {},
     "output_type": "execute_result"
    }
   ],
   "source": [
    "df = pd.read_csv('browsing_data.csv',encoding='ISO-8859-1',index_col='_unit_id')\n",
    "df = df.sample(frac = 1) \n",
    "df.shape"
   ]
  },
  {
   "cell_type": "code",
   "execution_count": 3,
   "metadata": {},
   "outputs": [
    {
     "data": {
      "text/plain": [
       "Index(['query', 'source', 'product_description', 'product_link'], dtype='object')"
      ]
     },
     "execution_count": 3,
     "metadata": {},
     "output_type": "execute_result"
    }
   ],
   "source": [
    "df.columns"
   ]
  },
  {
   "cell_type": "code",
   "execution_count": 4,
   "metadata": {},
   "outputs": [
    {
     "data": {
      "text/html": [
       "<div>\n",
       "<style scoped>\n",
       "    .dataframe tbody tr th:only-of-type {\n",
       "        vertical-align: middle;\n",
       "    }\n",
       "\n",
       "    .dataframe tbody tr th {\n",
       "        vertical-align: top;\n",
       "    }\n",
       "\n",
       "    .dataframe thead th {\n",
       "        text-align: right;\n",
       "    }\n",
       "</style>\n",
       "<table border=\"1\" class=\"dataframe\">\n",
       "  <thead>\n",
       "    <tr style=\"text-align: right;\">\n",
       "      <th></th>\n",
       "      <th>query</th>\n",
       "      <th>source</th>\n",
       "      <th>product_description</th>\n",
       "      <th>product_link</th>\n",
       "    </tr>\n",
       "    <tr>\n",
       "      <th>_unit_id</th>\n",
       "      <th></th>\n",
       "      <th></th>\n",
       "      <th></th>\n",
       "      <th></th>\n",
       "    </tr>\n",
       "  </thead>\n",
       "  <tbody>\n",
       "    <tr>\n",
       "      <th>711174850</th>\n",
       "      <td>Vanilla Scented Perfumes</td>\n",
       "      <td>flipkart</td>\n",
       "      <td>A powerful blend of the decadent sweetness of ...</td>\n",
       "      <td>http://www.walmart.com/ip/AzureGreen-OAVM-Vani...</td>\n",
       "    </tr>\n",
       "    <tr>\n",
       "      <th>711165627</th>\n",
       "      <td>nike womens</td>\n",
       "      <td>google.com</td>\n",
       "      <td>A modern rendition on a track-and-field classi...</td>\n",
       "      <td>http://www.shop.com/Nike+Tempo+Modern+Embossed...</td>\n",
       "    </tr>\n",
       "    <tr>\n",
       "      <th>711171126</th>\n",
       "      <td>san francisco 49ers</td>\n",
       "      <td>google.com</td>\n",
       "      <td>Support your team by wearing a classic team fo...</td>\n",
       "      <td>http://www.shop.com/Gamewear+NFL+Leather+Class...</td>\n",
       "    </tr>\n",
       "    <tr>\n",
       "      <th>711165870</th>\n",
       "      <td>double stroller</td>\n",
       "      <td>google.com</td>\n",
       "      <td>Cruise on with your children comfortably in to...</td>\n",
       "      <td>http://www.shop.com/nbts/p901184139-xinternals...</td>\n",
       "    </tr>\n",
       "    <tr>\n",
       "      <th>711165511</th>\n",
       "      <td>coffee grinder</td>\n",
       "      <td>google.com</td>\n",
       "      <td>The Soy abella Soymilk Maker is the elegantly ...</td>\n",
       "      <td>http://www.shop.com/Tribest+SB+130+Soy+abella+...</td>\n",
       "    </tr>\n",
       "  </tbody>\n",
       "</table>\n",
       "</div>"
      ],
      "text/plain": [
       "                              query      source  \\\n",
       "_unit_id                                          \n",
       "711174850  Vanilla Scented Perfumes    flipkart   \n",
       "711165627               nike womens  google.com   \n",
       "711171126       san francisco 49ers  google.com   \n",
       "711165870           double stroller  google.com   \n",
       "711165511            coffee grinder  google.com   \n",
       "\n",
       "                                         product_description  \\\n",
       "_unit_id                                                       \n",
       "711174850  A powerful blend of the decadent sweetness of ...   \n",
       "711165627  A modern rendition on a track-and-field classi...   \n",
       "711171126  Support your team by wearing a classic team fo...   \n",
       "711165870  Cruise on with your children comfortably in to...   \n",
       "711165511  The Soy abella Soymilk Maker is the elegantly ...   \n",
       "\n",
       "                                                product_link  \n",
       "_unit_id                                                      \n",
       "711174850  http://www.walmart.com/ip/AzureGreen-OAVM-Vani...  \n",
       "711165627  http://www.shop.com/Nike+Tempo+Modern+Embossed...  \n",
       "711171126  http://www.shop.com/Gamewear+NFL+Leather+Class...  \n",
       "711165870  http://www.shop.com/nbts/p901184139-xinternals...  \n",
       "711165511  http://www.shop.com/Tribest+SB+130+Soy+abella+...  "
      ]
     },
     "execution_count": 4,
     "metadata": {},
     "output_type": "execute_result"
    }
   ],
   "source": [
    "df.head()"
   ]
  },
  {
   "cell_type": "code",
   "execution_count": 5,
   "metadata": {},
   "outputs": [
    {
     "data": {
      "text/html": [
       "<div>\n",
       "<style scoped>\n",
       "    .dataframe tbody tr th:only-of-type {\n",
       "        vertical-align: middle;\n",
       "    }\n",
       "\n",
       "    .dataframe tbody tr th {\n",
       "        vertical-align: top;\n",
       "    }\n",
       "\n",
       "    .dataframe thead th {\n",
       "        text-align: right;\n",
       "    }\n",
       "</style>\n",
       "<table border=\"1\" class=\"dataframe\">\n",
       "  <thead>\n",
       "    <tr style=\"text-align: right;\">\n",
       "      <th></th>\n",
       "      <th>query</th>\n",
       "      <th>product_description</th>\n",
       "    </tr>\n",
       "    <tr>\n",
       "      <th>_unit_id</th>\n",
       "      <th></th>\n",
       "      <th></th>\n",
       "    </tr>\n",
       "  </thead>\n",
       "  <tbody>\n",
       "    <tr>\n",
       "      <th>711174850</th>\n",
       "      <td>Vanilla Scented Perfumes</td>\n",
       "      <td>A powerful blend of the decadent sweetness of ...</td>\n",
       "    </tr>\n",
       "    <tr>\n",
       "      <th>711165627</th>\n",
       "      <td>nike womens</td>\n",
       "      <td>A modern rendition on a track-and-field classi...</td>\n",
       "    </tr>\n",
       "    <tr>\n",
       "      <th>711171126</th>\n",
       "      <td>san francisco 49ers</td>\n",
       "      <td>Support your team by wearing a classic team fo...</td>\n",
       "    </tr>\n",
       "    <tr>\n",
       "      <th>711165870</th>\n",
       "      <td>double stroller</td>\n",
       "      <td>Cruise on with your children comfortably in to...</td>\n",
       "    </tr>\n",
       "    <tr>\n",
       "      <th>711165511</th>\n",
       "      <td>coffee grinder</td>\n",
       "      <td>The Soy abella Soymilk Maker is the elegantly ...</td>\n",
       "    </tr>\n",
       "  </tbody>\n",
       "</table>\n",
       "</div>"
      ],
      "text/plain": [
       "                              query  \\\n",
       "_unit_id                              \n",
       "711174850  Vanilla Scented Perfumes   \n",
       "711165627               nike womens   \n",
       "711171126       san francisco 49ers   \n",
       "711165870           double stroller   \n",
       "711165511            coffee grinder   \n",
       "\n",
       "                                         product_description  \n",
       "_unit_id                                                      \n",
       "711174850  A powerful blend of the decadent sweetness of ...  \n",
       "711165627  A modern rendition on a track-and-field classi...  \n",
       "711171126  Support your team by wearing a classic team fo...  \n",
       "711165870  Cruise on with your children comfortably in to...  \n",
       "711165511  The Soy abella Soymilk Maker is the elegantly ...  "
      ]
     },
     "execution_count": 5,
     "metadata": {},
     "output_type": "execute_result"
    }
   ],
   "source": [
    "df = df.dropna()\n",
    "x1 = df[['query','product_description']]\n",
    "x1.head()"
   ]
  },
  {
   "cell_type": "code",
   "execution_count": 6,
   "metadata": {},
   "outputs": [
    {
     "data": {
      "text/plain": [
       "<509x142 sparse matrix of type '<class 'numpy.float64'>'\n",
       "\twith 1132 stored elements in Compressed Sparse Row format>"
      ]
     },
     "execution_count": 6,
     "metadata": {},
     "output_type": "execute_result"
    }
   ],
   "source": [
    "vectorizer = TfidfVectorizer(stop_words = 'english')\n",
    "x = vectorizer.fit_transform(x1['query'],x1['product_description'])\n",
    "x"
   ]
  },
  {
   "cell_type": "code",
   "execution_count": 7,
   "metadata": {},
   "outputs": [
    {
     "name": "stdout",
     "output_type": "stream",
     "text": [
      "['15', '49ers', 'acoustic', 'adidas', 'aroma', 'bag', 'bags', 'batteries', 'bedspreads', 'bike', 'bird', 'black', 'blue', 'boot', 'boots', 'bras', 'brett', 'candle', 'chairs', 'clamp', 'clothes', 'coffee', 'conrad', 'cooker', 'cookware', 'corded', 'cowboy', 'cream', 'crocs', 'dc', 'diamond', 'diffuser', 'dinner', 'double', 'drawer', 'dress', 'dresses', 'drive', 'earbuds', 'ecco', 'eye', 'face', 'fair', 'favre', 'feeder', 'fifa', 'foam', 'fossil', 'fragance', 'francisco', 'gold', 'grinder', 'guitar', 'hard', 'headphones', 'headset', 'high', 'holders', 'ice', 'jeans', 'jersey', 'kitchen', 'kitchenaid', 'laptop', 'lauren', 'lc', 'led', 'lenovo', 'levis', 'lock', 'maker', 'mat', 'memory', 'mens', 'minecraft', 'mixer', 'monitor', 'mouse', 'mutant', 'necklace', 'nike', 'ninja', 'ny', 'organizer', 'oven', 'panasonic', 'pants', 'perfumes', 'pillow', 'pirates', 'pittsburgh', 'plain', 'plantronics', 'playstation', 'polarized', 'portable', 'pressure', 'rachel', 'rack', 'rain', 'ray', 'rechargable', 'ring', 'routers', 'rugs', 'runner', 'san', 'sandals', 'scented', 'seed', 'set', 'shaver', 'shirts', 'shoes', 'silver', 'skechers', 'sleeping', 'snow', 'socks', 'spiderman', 'stroller', 'sunglasses', 'sword', 'table', 'teenage', 'titans', 'toaster', 'toddler', 'toe', 'tote', 'turtles', 'vanilla', 'vanity', 'watch', 'white', 'wine', 'wireless', 'women', 'womens', 'workout', 'yellow', 'yoga']\n"
     ]
    }
   ],
   "source": [
    "print(vectorizer.get_feature_names())"
   ]
  },
  {
   "cell_type": "code",
   "execution_count": 8,
   "metadata": {},
   "outputs": [
    {
     "data": {
      "image/png": "[encoded data removed]",
      "text/plain": [
       "<Figure size 432x288 with 1 Axes>"
      ]
     },
     "metadata": {
      "needs_background": "light"
     },
     "output_type": "display_data"
    }
   ],
   "source": [
    "kmeans = KMeans(n_clusters = 10, init = 'k-means++')\n",
    "y_kmeans = kmeans.fit_predict(x)\n",
    "plt.plot(y_kmeans, \".\")\n",
    "plt.show()"
   ]
  },
  {
   "cell_type": "code",
   "execution_count": 9,
   "metadata": {},
   "outputs": [
    {
     "name": "stdout",
     "output_type": "stream",
     "text": [
      "Top terms per cluster:\n",
      "Cluster 0:\n",
      " adidas\n",
      " shoes\n",
      " dress\n",
      " cream\n",
      " crocs\n",
      " fragance\n",
      " nike\n",
      " coffee\n",
      " grinder\n",
      " gold\n",
      "Cluster 1:\n",
      " dresses\n",
      " conrad\n",
      " lc\n",
      " lauren\n",
      " feeder\n",
      " francisco\n",
      " fragance\n",
      " fossil\n",
      " foam\n",
      " fifa\n",
      "Cluster 2:\n",
      " headphones\n",
      " earbuds\n",
      " yoga\n",
      " fifa\n",
      " gold\n",
      " francisco\n",
      " fragance\n",
      " fossil\n",
      " foam\n",
      " feeder\n",
      "Cluster 3:\n",
      " drawer\n",
      " organizer\n",
      " guitar\n",
      " gold\n",
      " francisco\n",
      " fragance\n",
      " fossil\n",
      " foam\n",
      " fifa\n",
      " feeder\n",
      "Cluster 4:\n",
      " playstation\n",
      " yoga\n",
      " feeder\n",
      " francisco\n",
      " fragance\n",
      " fossil\n",
      " foam\n",
      " fifa\n",
      " favre\n",
      " grinder\n",
      "Cluster 5:\n",
      " boots\n",
      " cowboy\n",
      " snow\n",
      " feeder\n",
      " francisco\n",
      " fragance\n",
      " fossil\n",
      " foam\n",
      " fifa\n",
      " yoga\n",
      "Cluster 6:\n",
      " levis\n",
      " yoga\n",
      " feeder\n",
      " gold\n",
      " francisco\n",
      " fragance\n",
      " fossil\n",
      " foam\n",
      " fifa\n",
      " favre\n",
      "Cluster 7:\n",
      " silver\n",
      " ring\n",
      " necklace\n",
      " jeans\n",
      " fragance\n",
      " fossil\n",
      " foam\n",
      " fifa\n",
      " feeder\n",
      " favre\n"
     ]
    }
   ],
   "source": [
    "# # Optimal clusters is \n",
    "\n",
    "true_k = 8\n",
    "\n",
    "model = KMeans(n_clusters=true_k, init='k-means++', max_iter=200, n_init=10)\n",
    "model.fit(x)\n",
    "\n",
    "print(\"Top terms per cluster:\")\n",
    "order_centroids = model.cluster_centers_.argsort()[:, ::-1]\n",
    "terms = vectorizer.get_feature_names()\n",
    "for i in range(true_k):\n",
    "    print(\"Cluster %d:\" % i),\n",
    "    for ind in order_centroids[i, :10]:\n",
    "        print(' %s' % terms[ind]),\n",
    "    print\n",
    "\n"
   ]
  },
  {
   "cell_type": "code",
   "execution_count": 10,
   "metadata": {},
   "outputs": [
    {
     "name": "stdout",
     "output_type": "stream",
     "text": [
      "Cluster ID:\n",
      "[4]\n"
     ]
    }
   ],
   "source": [
    "print(\"Cluster ID:\")\n",
    "Y = vectorizer.transform([\"playstation\"])\n",
    "prediction = model.predict(Y)\n",
    "print(prediction)"
   ]
  },
  {
   "cell_type": "code",
   "execution_count": 11,
   "metadata": {},
   "outputs": [],
   "source": [
    "df['cluster'] = model.labels_"
   ]
  },
  {
   "cell_type": "code",
   "execution_count": 12,
   "metadata": {},
   "outputs": [
    {
     "data": {
      "text/plain": [
       "0    398\n",
       "5     22\n",
       "7     21\n",
       "1     17\n",
       "3     15\n",
       "4     13\n",
       "6     12\n",
       "2     11\n",
       "Name: cluster, dtype: int64"
      ]
     },
     "execution_count": 12,
     "metadata": {},
     "output_type": "execute_result"
    }
   ],
   "source": [
    "df['cluster'].value_counts()"
   ]
  },
  {
   "cell_type": "code",
   "execution_count": 13,
   "metadata": {},
   "outputs": [
    {
     "data": {
      "text/html": [
       "<div>\n",
       "<style scoped>\n",
       "    .dataframe tbody tr th:only-of-type {\n",
       "        vertical-align: middle;\n",
       "    }\n",
       "\n",
       "    .dataframe tbody tr th {\n",
       "        vertical-align: top;\n",
       "    }\n",
       "\n",
       "    .dataframe thead th {\n",
       "        text-align: right;\n",
       "    }\n",
       "</style>\n",
       "<table border=\"1\" class=\"dataframe\">\n",
       "  <thead>\n",
       "    <tr style=\"text-align: right;\">\n",
       "      <th></th>\n",
       "      <th>query</th>\n",
       "      <th>source</th>\n",
       "      <th>product_description</th>\n",
       "      <th>product_link</th>\n",
       "      <th>cluster</th>\n",
       "    </tr>\n",
       "    <tr>\n",
       "      <th>_unit_id</th>\n",
       "      <th></th>\n",
       "      <th></th>\n",
       "      <th></th>\n",
       "      <th></th>\n",
       "      <th></th>\n",
       "    </tr>\n",
       "  </thead>\n",
       "  <tbody>\n",
       "    <tr>\n",
       "      <th>711161487</th>\n",
       "      <td>nike shoes</td>\n",
       "      <td>amazon</td>\n",
       "      <td>The Range Jr. from Nike is the perfect shoe fo...</td>\n",
       "      <td>http://www.overstock.com/Sports-Toys/Nike-Juni...</td>\n",
       "      <td>0</td>\n",
       "    </tr>\n",
       "    <tr>\n",
       "      <th>711174953</th>\n",
       "      <td>vanity fair bras</td>\n",
       "      <td>flipkart</td>\n",
       "      <td>Just My Size Full Figure Satin Stretch Wirefre...</td>\n",
       "      <td>http://www.walmart.com/ip/Just-My-Size-Full-Fi...</td>\n",
       "      <td>0</td>\n",
       "    </tr>\n",
       "    <tr>\n",
       "      <th>711174494</th>\n",
       "      <td>lc lauren conrad dresses</td>\n",
       "      <td>flipkart</td>\n",
       "      <td>These Concepts Women's 8 in 1 Convertible Dres...</td>\n",
       "      <td>http://www.walmart.com/ip/Concepts-Women-s-8-i...</td>\n",
       "      <td>1</td>\n",
       "    </tr>\n",
       "    <tr>\n",
       "      <th>711161479</th>\n",
       "      <td>wireless mouse</td>\n",
       "      <td>amazon</td>\n",
       "      <td>The HP Comfort Grip Wireless Mouse features a ...</td>\n",
       "      <td>http://www.overstock.com/Electronics/HP-Comfor...</td>\n",
       "      <td>0</td>\n",
       "    </tr>\n",
       "    <tr>\n",
       "      <th>711166158</th>\n",
       "      <td>spiderman</td>\n",
       "      <td>google.com</td>\n",
       "      <td>This matching cargo annd t-shirt set is sure t...</td>\n",
       "      <td>http://www.shop.com/nbts/p1238474516-xinternal...</td>\n",
       "      <td>0</td>\n",
       "    </tr>\n",
       "    <tr>\n",
       "      <th>711165677</th>\n",
       "      <td>face cream</td>\n",
       "      <td>google.com</td>\n",
       "      <td>An all-in-one quad to contour, highlight and c...</td>\n",
       "      <td>http://www.shop.com/Motives+reg+for+La+La+Colo...</td>\n",
       "      <td>0</td>\n",
       "    </tr>\n",
       "    <tr>\n",
       "      <th>711175863</th>\n",
       "      <td>teenage mutant ninja turtles</td>\n",
       "      <td>flipkart</td>\n",
       "      <td>This Teenage Mutant Ninja Turtles Sewer Lair P...</td>\n",
       "      <td>http://www.walmart.com/ip/Nickelodeon-Teenage-...</td>\n",
       "      <td>0</td>\n",
       "    </tr>\n",
       "    <tr>\n",
       "      <th>711162347</th>\n",
       "      <td>wine rack</td>\n",
       "      <td>amazon</td>\n",
       "      <td>Safely secure your wines in the Powell Reflect...</td>\n",
       "      <td>http://www.overstock.com/Home-Garden/Powell-Re...</td>\n",
       "      <td>0</td>\n",
       "    </tr>\n",
       "    <tr>\n",
       "      <th>711174716</th>\n",
       "      <td>drawer organizer</td>\n",
       "      <td>flipkart</td>\n",
       "      <td>Keep your essentials neatly stored in one conv...</td>\n",
       "      <td>http://www.walmart.com/ip/Rubbermaid-6pc-Drawe...</td>\n",
       "      <td>3</td>\n",
       "    </tr>\n",
       "    <tr>\n",
       "      <th>711165183</th>\n",
       "      <td>kitchenaid mixer</td>\n",
       "      <td>amazon</td>\n",
       "      <td>Making homemade ravioli has never been easier ...</td>\n",
       "      <td>http://www.overstock.com/Home-Garden/KitchenAi...</td>\n",
       "      <td>0</td>\n",
       "    </tr>\n",
       "  </tbody>\n",
       "</table>\n",
       "</div>"
      ],
      "text/plain": [
       "                                  query      source  \\\n",
       "_unit_id                                              \n",
       "711161487                    nike shoes      amazon   \n",
       "711174953              vanity fair bras    flipkart   \n",
       "711174494      lc lauren conrad dresses    flipkart   \n",
       "711161479                wireless mouse      amazon   \n",
       "711166158                     spiderman  google.com   \n",
       "711165677                    face cream  google.com   \n",
       "711175863  teenage mutant ninja turtles    flipkart   \n",
       "711162347                     wine rack      amazon   \n",
       "711174716              drawer organizer    flipkart   \n",
       "711165183              kitchenaid mixer      amazon   \n",
       "\n",
       "                                         product_description  \\\n",
       "_unit_id                                                       \n",
       "711161487  The Range Jr. from Nike is the perfect shoe fo...   \n",
       "711174953  Just My Size Full Figure Satin Stretch Wirefre...   \n",
       "711174494  These Concepts Women's 8 in 1 Convertible Dres...   \n",
       "711161479  The HP Comfort Grip Wireless Mouse features a ...   \n",
       "711166158  This matching cargo annd t-shirt set is sure t...   \n",
       "711165677  An all-in-one quad to contour, highlight and c...   \n",
       "711175863  This Teenage Mutant Ninja Turtles Sewer Lair P...   \n",
       "711162347  Safely secure your wines in the Powell Reflect...   \n",
       "711174716  Keep your essentials neatly stored in one conv...   \n",
       "711165183  Making homemade ravioli has never been easier ...   \n",
       "\n",
       "                                                product_link  cluster  \n",
       "_unit_id                                                               \n",
       "711161487  http://www.overstock.com/Sports-Toys/Nike-Juni...        0  \n",
       "711174953  http://www.walmart.com/ip/Just-My-Size-Full-Fi...        0  \n",
       "711174494  http://www.walmart.com/ip/Concepts-Women-s-8-i...        1  \n",
       "711161479  http://www.overstock.com/Electronics/HP-Comfor...        0  \n",
       "711166158  http://www.shop.com/nbts/p1238474516-xinternal...        0  \n",
       "711165677  http://www.shop.com/Motives+reg+for+La+La+Colo...        0  \n",
       "711175863  http://www.walmart.com/ip/Nickelodeon-Teenage-...        0  \n",
       "711162347  http://www.overstock.com/Home-Garden/Powell-Re...        0  \n",
       "711174716  http://www.walmart.com/ip/Rubbermaid-6pc-Drawe...        3  \n",
       "711165183  http://www.overstock.com/Home-Garden/KitchenAi...        0  "
      ]
     },
     "execution_count": 13,
     "metadata": {},
     "output_type": "execute_result"
    }
   ],
   "source": [
    "df.sample(n=10)"
   ]
  },
  {
   "cell_type": "code",
   "execution_count": 14,
   "metadata": {},
   "outputs": [],
   "source": [
    "def recomm_links(user_query,vectorizer=vectorizer,df=df):\n",
    "    y = vectorizer.transform([user_query])\n",
    "    cluster_id = model.predict(y)\n",
    "    r = df.loc[(df['source']=='flipkart') & (df['cluster']==cluster_id[0]) & (df['query']==user_query)]\n",
    "    r1 = df.loc[(df['source']=='flipkart') & (df['cluster']==cluster_id[0])]\n",
    "    print(\"Same Product\",r['product_link'])\n",
    "    print(\"========================================\")\n",
    "    print(\"Similar Product\",r1['product_link'].sample(n=10))"
   ]
  },
  {
   "cell_type": "code",
   "execution_count": 15,
   "metadata": {},
   "outputs": [
    {
     "name": "stdout",
     "output_type": "stream",
     "text": [
      "Same Product _unit_id\n",
      "711174235    http://www.walmart.com/ip/Lipstik-Little-Girls...\n",
      "711174236    http://www.walmart.com/ip/Lipstik-Little-Girls...\n",
      "711174238    http://www.walmart.com/ip/Lipstik-Little-Girls...\n",
      "711174237    http://www.walmart.com/ip/Lipstik-Little-Girls...\n",
      "711174234    http://www.walmart.com/ip/The-Rain-Kids-Girls-...\n",
      "Name: product_link, dtype: object\n",
      "========================================\n",
      "Similar Product _unit_id\n",
      "711175739    http://www.walmart.com/ip/Prepac-ESOW-0200-1-F...\n",
      "711174640    http://www.walmart.com/ip/Columbus-Blue-Jacket...\n",
      "711174853    http://www.walmart.com/ip/Givenchy-Organza-Eau...\n",
      "711174680    http://www.walmart.com/ip/WEATHER-SPIRITS-Yout...\n",
      "711175879    http://www.walmart.com/ip/Gardman-USA-NC030The...\n",
      "711175376    http://www.walmart.com/ip/Huge-Double-Sleeping...\n",
      "711174878    http://www.walmart.com/ip/Danskin-Now-Women-s-...\n",
      "711175393    http://www.walmart.com/ip/Ozark-Trail-ENV-Zero...\n",
      "711175893    http://www.walmart.com/ip/Spiderwire-Fletcher-...\n",
      "711175273    http://www.walmart.com/ip/Dr.-Scholl-s-Women-s...\n",
      "Name: product_link, dtype: object\n"
     ]
    }
   ],
   "source": [
    "recomm_links('gold dress')"
   ]
  },
  {
   "cell_type": "code",
   "execution_count": null,
   "metadata": {},
   "outputs": [],
   "source": []
  }
 ],
 "metadata": {
  "kernelspec": {
   "display_name": "Python 3",
   "language": "python",
   "name": "python3"
  },
  "language_info": {
   "codemirror_mode": {
    "name": "ipython",
    "version": 3
   },
   "file_extension": ".py",
   "mimetype": "text/x-python",
   "name": "python",
   "nbconvert_exporter": "python",
   "pygments_lexer": "ipython3",
   "version": "3.7.6"
  }
 },
 "nbformat": 4,
 "nbformat_minor": 4
}
