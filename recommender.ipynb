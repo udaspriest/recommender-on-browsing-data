{
 "cells": [
  {
   "cell_type": "code",
   "execution_count": 102,
   "metadata": {},
   "outputs": [],
   "source": [
    "import numpy as np\n",
    "import pandas as pd\n",
    "import matplotlib.pyplot as plt\n",
    "import sklearn\n",
    "from sklearn.feature_extraction.text import TfidfVectorizer, CountVectorizer\n",
    "from sklearn.neighbors import NearestNeighbors\n",
    "from sklearn.cluster import KMeans\n",
    "from sklearn.metrics import adjusted_rand_score\n",
    "import gensim"
   ]
  },
  {
   "cell_type": "code",
   "execution_count": 176,
   "metadata": {},
   "outputs": [
    {
     "data": {
      "text/plain": [
       "(509, 4)"
      ]
     },
     "execution_count": 176,
     "metadata": {},
     "output_type": "execute_result"
    }
   ],
   "source": [
    "df = pd.read_csv('browsing_data.csv',encoding='ISO-8859-1')\n",
    "df = df.sample(frac = 1) \n",
    "df.shape"
   ]
  },
  {
   "cell_type": "code",
   "execution_count": 181,
   "metadata": {},
   "outputs": [
    {
     "data": {
      "text/plain": [
       "Index(['_unit_id', 'query', 'source', 'product_description'], dtype='object')"
      ]
     },
     "execution_count": 181,
     "metadata": {},
     "output_type": "execute_result"
    }
   ],
   "source": [
    "df.columns"
   ]
  },
  {
   "cell_type": "code",
   "execution_count": null,
   "metadata": {},
   "outputs": [],
   "source": []
  },
  {
   "cell_type": "code",
   "execution_count": 182,
   "metadata": {},
   "outputs": [
    {
     "data": {
      "text/html": [
       "<div>\n",
       "<style scoped>\n",
       "    .dataframe tbody tr th:only-of-type {\n",
       "        vertical-align: middle;\n",
       "    }\n",
       "\n",
       "    .dataframe tbody tr th {\n",
       "        vertical-align: top;\n",
       "    }\n",
       "\n",
       "    .dataframe thead th {\n",
       "        text-align: right;\n",
       "    }\n",
       "</style>\n",
       "<table border=\"1\" class=\"dataframe\">\n",
       "  <thead>\n",
       "    <tr style=\"text-align: right;\">\n",
       "      <th></th>\n",
       "      <th>_unit_id</th>\n",
       "      <th>query</th>\n",
       "      <th>source</th>\n",
       "      <th>product_description</th>\n",
       "    </tr>\n",
       "  </thead>\n",
       "  <tbody>\n",
       "    <tr>\n",
       "      <th>387</th>\n",
       "      <td>711165494</td>\n",
       "      <td>Rechargable batteries</td>\n",
       "      <td>google.com</td>\n",
       "      <td>Battery Pack for Wii Balance Board Compatible ...</td>\n",
       "    </tr>\n",
       "    <tr>\n",
       "      <th>277</th>\n",
       "      <td>711174815</td>\n",
       "      <td>adidas fragance</td>\n",
       "      <td>flipkart</td>\n",
       "      <td>adidas Moves for Him Spray, 1.7 fl oz, is for ...</td>\n",
       "    </tr>\n",
       "    <tr>\n",
       "      <th>167</th>\n",
       "      <td>711174274</td>\n",
       "      <td>tote bag</td>\n",
       "      <td>flipkart</td>\n",
       "      <td>This Women's Trellis Pattern 2-Pocket Tote Bag...</td>\n",
       "    </tr>\n",
       "    <tr>\n",
       "      <th>335</th>\n",
       "      <td>711175275</td>\n",
       "      <td>laptop lenovo</td>\n",
       "      <td>flipkart</td>\n",
       "      <td>The Lenovo Refurbished Laptop T410 has everyth...</td>\n",
       "    </tr>\n",
       "    <tr>\n",
       "      <th>146</th>\n",
       "      <td>711175828</td>\n",
       "      <td>pressure cooker</td>\n",
       "      <td>flipkart</td>\n",
       "      <td>The Presto 8-Quart Stainless Steel Pressure Co...</td>\n",
       "    </tr>\n",
       "  </tbody>\n",
       "</table>\n",
       "</div>"
      ],
      "text/plain": [
       "      _unit_id                  query      source  \\\n",
       "387  711165494  Rechargable batteries  google.com   \n",
       "277  711174815        adidas fragance    flipkart   \n",
       "167  711174274               tote bag    flipkart   \n",
       "335  711175275          laptop lenovo    flipkart   \n",
       "146  711175828        pressure cooker    flipkart   \n",
       "\n",
       "                                   product_description  \n",
       "387  Battery Pack for Wii Balance Board Compatible ...  \n",
       "277  adidas Moves for Him Spray, 1.7 fl oz, is for ...  \n",
       "167  This Women's Trellis Pattern 2-Pocket Tote Bag...  \n",
       "335  The Lenovo Refurbished Laptop T410 has everyth...  \n",
       "146  The Presto 8-Quart Stainless Steel Pressure Co...  "
      ]
     },
     "execution_count": 182,
     "metadata": {},
     "output_type": "execute_result"
    }
   ],
   "source": [
    "df.head()"
   ]
  },
  {
   "cell_type": "code",
   "execution_count": 183,
   "metadata": {},
   "outputs": [
    {
     "data": {
      "text/html": [
       "<div>\n",
       "<style scoped>\n",
       "    .dataframe tbody tr th:only-of-type {\n",
       "        vertical-align: middle;\n",
       "    }\n",
       "\n",
       "    .dataframe tbody tr th {\n",
       "        vertical-align: top;\n",
       "    }\n",
       "\n",
       "    .dataframe thead th {\n",
       "        text-align: right;\n",
       "    }\n",
       "</style>\n",
       "<table border=\"1\" class=\"dataframe\">\n",
       "  <thead>\n",
       "    <tr style=\"text-align: right;\">\n",
       "      <th></th>\n",
       "      <th>query</th>\n",
       "      <th>product_description</th>\n",
       "    </tr>\n",
       "  </thead>\n",
       "  <tbody>\n",
       "    <tr>\n",
       "      <th>387</th>\n",
       "      <td>Rechargable batteries</td>\n",
       "      <td>Battery Pack for Wii Balance Board Compatible ...</td>\n",
       "    </tr>\n",
       "    <tr>\n",
       "      <th>277</th>\n",
       "      <td>adidas fragance</td>\n",
       "      <td>adidas Moves for Him Spray, 1.7 fl oz, is for ...</td>\n",
       "    </tr>\n",
       "    <tr>\n",
       "      <th>167</th>\n",
       "      <td>tote bag</td>\n",
       "      <td>This Women's Trellis Pattern 2-Pocket Tote Bag...</td>\n",
       "    </tr>\n",
       "    <tr>\n",
       "      <th>335</th>\n",
       "      <td>laptop lenovo</td>\n",
       "      <td>The Lenovo Refurbished Laptop T410 has everyth...</td>\n",
       "    </tr>\n",
       "    <tr>\n",
       "      <th>146</th>\n",
       "      <td>pressure cooker</td>\n",
       "      <td>The Presto 8-Quart Stainless Steel Pressure Co...</td>\n",
       "    </tr>\n",
       "  </tbody>\n",
       "</table>\n",
       "</div>"
      ],
      "text/plain": [
       "                     query                                product_description\n",
       "387  Rechargable batteries  Battery Pack for Wii Balance Board Compatible ...\n",
       "277        adidas fragance  adidas Moves for Him Spray, 1.7 fl oz, is for ...\n",
       "167               tote bag  This Women's Trellis Pattern 2-Pocket Tote Bag...\n",
       "335          laptop lenovo  The Lenovo Refurbished Laptop T410 has everyth...\n",
       "146        pressure cooker  The Presto 8-Quart Stainless Steel Pressure Co..."
      ]
     },
     "execution_count": 183,
     "metadata": {},
     "output_type": "execute_result"
    }
   ],
   "source": [
    "df = df.dropna()\n",
    "x1 = df[['query','product_description']]\n",
    "x1.head()"
   ]
  },
  {
   "cell_type": "code",
   "execution_count": 184,
   "metadata": {},
   "outputs": [
    {
     "data": {
      "text/plain": [
       "<509x142 sparse matrix of type '<class 'numpy.float64'>'\n",
       "\twith 1132 stored elements in Compressed Sparse Row format>"
      ]
     },
     "execution_count": 184,
     "metadata": {},
     "output_type": "execute_result"
    }
   ],
   "source": [
    "vectorizer = TfidfVectorizer(stop_words = 'english')\n",
    "x = vectorizer.fit_transform(x1['query'],x1['product_description'])\n",
    "x"
   ]
  },
  {
   "cell_type": "code",
   "execution_count": 185,
   "metadata": {},
   "outputs": [
    {
     "name": "stdout",
     "output_type": "stream",
     "text": [
      "['15', '49ers', 'acoustic', 'adidas', 'aroma', 'bag', 'bags', 'batteries', 'bedspreads', 'bike', 'bird', 'black', 'blue', 'boot', 'boots', 'bras', 'brett', 'candle', 'chairs', 'clamp', 'clothes', 'coffee', 'conrad', 'cooker', 'cookware', 'corded', 'cowboy', 'cream', 'crocs', 'dc', 'diamond', 'diffuser', 'dinner', 'double', 'drawer', 'dress', 'dresses', 'drive', 'earbuds', 'ecco', 'eye', 'face', 'fair', 'favre', 'feeder', 'fifa', 'foam', 'fossil', 'fragance', 'francisco', 'gold', 'grinder', 'guitar', 'hard', 'headphones', 'headset', 'high', 'holders', 'ice', 'jeans', 'jersey', 'kitchen', 'kitchenaid', 'laptop', 'lauren', 'lc', 'led', 'lenovo', 'levis', 'lock', 'maker', 'mat', 'memory', 'mens', 'minecraft', 'mixer', 'monitor', 'mouse', 'mutant', 'necklace', 'nike', 'ninja', 'ny', 'organizer', 'oven', 'panasonic', 'pants', 'perfumes', 'pillow', 'pirates', 'pittsburgh', 'plain', 'plantronics', 'playstation', 'polarized', 'portable', 'pressure', 'rachel', 'rack', 'rain', 'ray', 'rechargable', 'ring', 'routers', 'rugs', 'runner', 'san', 'sandals', 'scented', 'seed', 'set', 'shaver', 'shirts', 'shoes', 'silver', 'skechers', 'sleeping', 'snow', 'socks', 'spiderman', 'stroller', 'sunglasses', 'sword', 'table', 'teenage', 'titans', 'toaster', 'toddler', 'toe', 'tote', 'turtles', 'vanilla', 'vanity', 'watch', 'white', 'wine', 'wireless', 'women', 'womens', 'workout', 'yellow', 'yoga']\n"
     ]
    }
   ],
   "source": [
    "print(vectorizer.get_feature_names())"
   ]
  },
  {
   "cell_type": "code",
   "execution_count": 186,
   "metadata": {},
   "outputs": [
    {
     "data": {
      "image/png": "[encoded data removed]",
      "text/plain": [
       "<Figure size 432x288 with 1 Axes>"
      ]
     },
     "metadata": {
      "needs_background": "light"
     },
     "output_type": "display_data"
    }
   ],
   "source": [
    "kmeans = KMeans(n_clusters = 10, init = 'k-means++')\n",
    "y_kmeans = kmeans.fit_predict(x)\n",
    "plt.plot(y_kmeans, \".\")\n",
    "plt.show()"
   ]
  },
  {
   "cell_type": "code",
   "execution_count": 187,
   "metadata": {},
   "outputs": [
    {
     "name": "stdout",
     "output_type": "stream",
     "text": [
      "Top terms per cluster:\n",
      "Cluster 0:\n",
      " mixer\n",
      " kitchenaid\n",
      " yoga\n",
      " favre\n",
      " francisco\n",
      " fragance\n",
      " fossil\n",
      " foam\n",
      " fifa\n",
      " feeder\n",
      "Cluster 1:\n",
      " coffee\n",
      " grinder\n",
      " gold\n",
      " pirates\n",
      " pittsburgh\n",
      " women\n",
      " high\n",
      " chairs\n",
      " dress\n",
      " wireless\n",
      "Cluster 2:\n",
      " silver\n",
      " ring\n",
      " necklace\n",
      " jeans\n",
      " fragance\n",
      " fossil\n",
      " foam\n",
      " fifa\n",
      " feeder\n",
      " favre\n",
      "Cluster 3:\n",
      " adidas\n",
      " fragance\n",
      " pants\n",
      " yoga\n",
      " feeder\n",
      " gold\n",
      " francisco\n",
      " fossil\n",
      " foam\n",
      " fifa\n",
      "Cluster 4:\n",
      " playstation\n",
      " levis\n",
      " shoes\n",
      " crocs\n",
      " nike\n",
      " spiderman\n",
      " routers\n",
      " womens\n",
      " cream\n",
      " vanity\n",
      "Cluster 5:\n",
      " drawer\n",
      " organizer\n",
      " guitar\n",
      " gold\n",
      " francisco\n",
      " fragance\n",
      " fossil\n",
      " foam\n",
      " fifa\n",
      " feeder\n",
      "Cluster 6:\n",
      " boots\n",
      " cowboy\n",
      " snow\n",
      " feeder\n",
      " francisco\n",
      " fragance\n",
      " fossil\n",
      " foam\n",
      " fifa\n",
      " yoga\n",
      "Cluster 7:\n",
      " dresses\n",
      " conrad\n",
      " lc\n",
      " lauren\n",
      " feeder\n",
      " francisco\n",
      " fragance\n",
      " fossil\n",
      " foam\n",
      " fifa\n"
     ]
    }
   ],
   "source": [
    "# # Optimal clusters is \n",
    "\n",
    "true_k = 8\n",
    "\n",
    "model = KMeans(n_clusters=true_k, init='k-means++', max_iter=200, n_init=10)\n",
    "model.fit(x)\n",
    "\n",
    "print(\"Top terms per cluster:\")\n",
    "order_centroids = model.cluster_centers_.argsort()[:, ::-1]\n",
    "terms = vectorizer.get_feature_names()\n",
    "for i in range(true_k):\n",
    "    print(\"Cluster %d:\" % i),\n",
    "    for ind in order_centroids[i, :10]:\n",
    "        print(' %s' % terms[ind]),\n",
    "    print\n",
    "\n"
   ]
  },
  {
   "cell_type": "code",
   "execution_count": 188,
   "metadata": {},
   "outputs": [
    {
     "name": "stdout",
     "output_type": "stream",
     "text": [
      "Cluster ID:\n",
      "[4]\n"
     ]
    }
   ],
   "source": [
    "print(\"Cluster ID:\")\n",
    "Y = vectorizer.transform([\"playstation\"])\n",
    "prediction = model.predict(Y)\n",
    "print(prediction)"
   ]
  },
  {
   "cell_type": "code",
   "execution_count": 189,
   "metadata": {},
   "outputs": [
    {
     "data": {
      "image/png": "[encoded data removed]",
      "text/plain": [
       "<Figure size 864x432 with 1 Axes>"
      ]
     },
     "metadata": {
      "needs_background": "light"
     },
     "output_type": "display_data"
    }
   ],
   "source": [
    "wcss = []\n",
    "n=31\n",
    "for k in range(1,n):\n",
    "    kmeans = KMeans(n_clusters=k, init=\"k-means++\")\n",
    "    kmeans.fit(x)\n",
    "    wcss.append(kmeans.inertia_)\n",
    "plt.figure(figsize=(12,6))    \n",
    "plt.grid()\n",
    "plt.plot(range(1,n),wcss, linewidth=2, color=\"red\", marker =\"8\")\n",
    "plt.xlabel(\"K Value\")\n",
    "plt.xticks(np.arange(1,n,1))\n",
    "plt.ylabel(\"WCSS\")\n",
    "plt.show()"
   ]
  },
  {
   "cell_type": "code",
   "execution_count": 190,
   "metadata": {},
   "outputs": [],
   "source": [
    "df['cluster'] = model.labels_"
   ]
  },
  {
   "cell_type": "code",
   "execution_count": 194,
   "metadata": {},
   "outputs": [
    {
     "data": {
      "text/plain": [
       "1    226\n",
       "4    175\n",
       "6     22\n",
       "2     21\n",
       "3     20\n",
       "7     17\n",
       "5     15\n",
       "0     13\n",
       "Name: cluster, dtype: int64"
      ]
     },
     "execution_count": 194,
     "metadata": {},
     "output_type": "execute_result"
    }
   ],
   "source": [
    "df['cluster'].value_counts()"
   ]
  },
  {
   "cell_type": "code",
   "execution_count": 192,
   "metadata": {},
   "outputs": [
    {
     "data": {
      "text/html": [
       "<div>\n",
       "<style scoped>\n",
       "    .dataframe tbody tr th:only-of-type {\n",
       "        vertical-align: middle;\n",
       "    }\n",
       "\n",
       "    .dataframe tbody tr th {\n",
       "        vertical-align: top;\n",
       "    }\n",
       "\n",
       "    .dataframe thead th {\n",
       "        text-align: right;\n",
       "    }\n",
       "</style>\n",
       "<table border=\"1\" class=\"dataframe\">\n",
       "  <thead>\n",
       "    <tr style=\"text-align: right;\">\n",
       "      <th></th>\n",
       "      <th>_unit_id</th>\n",
       "      <th>query</th>\n",
       "      <th>source</th>\n",
       "      <th>product_description</th>\n",
       "      <th>cluster</th>\n",
       "    </tr>\n",
       "  </thead>\n",
       "  <tbody>\n",
       "    <tr>\n",
       "      <th>331</th>\n",
       "      <td>711175270</td>\n",
       "      <td>skechers womens shoes</td>\n",
       "      <td>flipkart</td>\n",
       "      <td>These Dr. Scholl's Aspire Wide-Width Women's W...</td>\n",
       "      <td>4</td>\n",
       "    </tr>\n",
       "    <tr>\n",
       "      <th>378</th>\n",
       "      <td>711165444</td>\n",
       "      <td>Levis</td>\n",
       "      <td>google.com</td>\n",
       "      <td>Your cute little cruiser and our comfy Trucker...</td>\n",
       "      <td>4</td>\n",
       "    </tr>\n",
       "    <tr>\n",
       "      <th>123</th>\n",
       "      <td>711171125</td>\n",
       "      <td>san francisco 49ers</td>\n",
       "      <td>google.com</td>\n",
       "      <td>San Francisco 49ers gift set. The watch featur...</td>\n",
       "      <td>4</td>\n",
       "    </tr>\n",
       "    <tr>\n",
       "      <th>138</th>\n",
       "      <td>711175743</td>\n",
       "      <td>wine rack</td>\n",
       "      <td>flipkart</td>\n",
       "      <td>This is handsome by itself or you can combine ...</td>\n",
       "      <td>1</td>\n",
       "    </tr>\n",
       "    <tr>\n",
       "      <th>6</th>\n",
       "      <td>711160467</td>\n",
       "      <td>plantronics corded headset</td>\n",
       "      <td>amazon</td>\n",
       "      <td>Optimized for PC music and calling - it s the ...</td>\n",
       "      <td>1</td>\n",
       "    </tr>\n",
       "    <tr>\n",
       "      <th>478</th>\n",
       "      <td>711166035</td>\n",
       "      <td>workout clothes for women</td>\n",
       "      <td>google.com</td>\n",
       "      <td>Our fitness pants are so comfortable, you'll w...</td>\n",
       "      <td>1</td>\n",
       "    </tr>\n",
       "    <tr>\n",
       "      <th>174</th>\n",
       "      <td>711174303</td>\n",
       "      <td>routers</td>\n",
       "      <td>flipkart</td>\n",
       "      <td>The TP-LINK TL-WR720N is a simple and secure w...</td>\n",
       "      <td>4</td>\n",
       "    </tr>\n",
       "    <tr>\n",
       "      <th>221</th>\n",
       "      <td>711174497</td>\n",
       "      <td>silver ring</td>\n",
       "      <td>flipkart</td>\n",
       "      <td>This Blue Topaz and Smoky Quartz Ring shines o...</td>\n",
       "      <td>2</td>\n",
       "    </tr>\n",
       "    <tr>\n",
       "      <th>23</th>\n",
       "      <td>711161067</td>\n",
       "      <td>coffee grinder</td>\n",
       "      <td>amazon</td>\n",
       "      <td>This one-touch coffee grinder is all you will ...</td>\n",
       "      <td>1</td>\n",
       "    </tr>\n",
       "    <tr>\n",
       "      <th>183</th>\n",
       "      <td>711174343</td>\n",
       "      <td>yellow dress</td>\n",
       "      <td>flipkart</td>\n",
       "      <td>How cute is this floral dress from the designe...</td>\n",
       "      <td>4</td>\n",
       "    </tr>\n",
       "  </tbody>\n",
       "</table>\n",
       "</div>"
      ],
      "text/plain": [
       "      _unit_id                       query      source  \\\n",
       "331  711175270       skechers womens shoes    flipkart   \n",
       "378  711165444                       Levis  google.com   \n",
       "123  711171125         san francisco 49ers  google.com   \n",
       "138  711175743                   wine rack    flipkart   \n",
       "6    711160467  plantronics corded headset      amazon   \n",
       "478  711166035   workout clothes for women  google.com   \n",
       "174  711174303                     routers    flipkart   \n",
       "221  711174497                 silver ring    flipkart   \n",
       "23   711161067              coffee grinder      amazon   \n",
       "183  711174343                yellow dress    flipkart   \n",
       "\n",
       "                                   product_description  cluster  \n",
       "331  These Dr. Scholl's Aspire Wide-Width Women's W...        4  \n",
       "378  Your cute little cruiser and our comfy Trucker...        4  \n",
       "123  San Francisco 49ers gift set. The watch featur...        4  \n",
       "138  This is handsome by itself or you can combine ...        1  \n",
       "6    Optimized for PC music and calling - it s the ...        1  \n",
       "478  Our fitness pants are so comfortable, you'll w...        1  \n",
       "174  The TP-LINK TL-WR720N is a simple and secure w...        4  \n",
       "221  This Blue Topaz and Smoky Quartz Ring shines o...        2  \n",
       "23   This one-touch coffee grinder is all you will ...        1  \n",
       "183  How cute is this floral dress from the designe...        4  "
      ]
     },
     "execution_count": 192,
     "metadata": {},
     "output_type": "execute_result"
    }
   ],
   "source": [
    "df.sample(n=10)"
   ]
  },
  {
   "cell_type": "code",
   "execution_count": 197,
   "metadata": {},
   "outputs": [],
   "source": [
    "user_query = 'wine rack'\n",
    "y = vectorizer.transform([user_query])\n",
    "cluster_id = model.predict(y)"
   ]
  },
  {
   "cell_type": "code",
   "execution_count": 198,
   "metadata": {},
   "outputs": [
    {
     "name": "stdout",
     "output_type": "stream",
     "text": [
      "[1]\n"
     ]
    }
   ],
   "source": [
    "print(cluster_id)"
   ]
  },
  {
   "cell_type": "code",
   "execution_count": null,
   "metadata": {},
   "outputs": [],
   "source": []
  },
  {
   "cell_type": "code",
   "execution_count": null,
   "metadata": {},
   "outputs": [],
   "source": []
  },
  {
   "cell_type": "code",
   "execution_count": null,
   "metadata": {},
   "outputs": [],
   "source": []
  },
  {
   "cell_type": "code",
   "execution_count": null,
   "metadata": {},
   "outputs": [],
   "source": []
  }
 ],
 "metadata": {
  "kernelspec": {
   "display_name": "Python 3",
   "language": "python",
   "name": "python3"
  },
  "language_info": {
   "codemirror_mode": {
    "name": "ipython",
    "version": 3
   },
   "file_extension": ".py",
   "mimetype": "text/x-python",
   "name": "python",
   "nbconvert_exporter": "python",
   "pygments_lexer": "ipython3",
   "version": "3.7.6"
  }
 },
 "nbformat": 4,
 "nbformat_minor": 4
}
