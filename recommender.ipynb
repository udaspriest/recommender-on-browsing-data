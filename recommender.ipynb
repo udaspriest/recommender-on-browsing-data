{
 "cells": [
  {
   "cell_type": "markdown",
   "metadata": {},
   "source": [
    "# Recommendar System based on search query\n",
    "\n",
    "A well developed recommendation system will help businesses improve their shopper's experience on website and result in better customer acquisition and retention.<br>\n",
    "The recommendation system, I have designed below is based on the search history of the user, i.e the system recommends products on a website(walmart/flipkart) based on users search query in different websites like amazon or google. The product recommendations can be based on textual clustering analysis given in product description and the search query term."
   ]
  },
  {
   "cell_type": "markdown",
   "metadata": {},
   "source": [
    "# Import modules"
   ]
  },
  {
   "cell_type": "code",
   "execution_count": 1,
   "metadata": {},
   "outputs": [],
   "source": [
    "import numpy as np\n",
    "import pandas as pd\n",
    "import matplotlib.pyplot as plt\n",
    "import sklearn\n",
    "from sklearn.feature_extraction.text import TfidfVectorizer, CountVectorizer\n",
    "from sklearn.cluster import KMeans"
   ]
  },
  {
   "cell_type": "markdown",
   "metadata": {},
   "source": [
    "# Load Dataset\n",
    "The dataset i have used has 509 rows and 4 columns.\n",
    "\n",
    "Columns:\n",
    "\n",
    "    1: query - term searched by user on a website\n",
    "    2: source - website name where the term was searched\n",
    "    3: product_description - information about the product in the website\n",
    "    4: product_link - web address of the product"
   ]
  },
  {
   "cell_type": "code",
   "execution_count": 2,
   "metadata": {},
   "outputs": [
    {
     "data": {
      "text/plain": [
       "(509, 4)"
      ]
     },
     "execution_count": 2,
     "metadata": {},
     "output_type": "execute_result"
    }
   ],
   "source": [
    "df = pd.read_csv('browsing_data.csv',encoding='ISO-8859-1',index_col='_unit_id')\n",
    "df = df.sample(frac = 1) \n",
    "df.shape"
   ]
  },
  {
   "cell_type": "code",
   "execution_count": 3,
   "metadata": {},
   "outputs": [
    {
     "data": {
      "text/plain": [
       "Index(['query', 'source', 'product_description', 'product_link'], dtype='object')"
      ]
     },
     "execution_count": 3,
     "metadata": {},
     "output_type": "execute_result"
    }
   ],
   "source": [
    "df.columns"
   ]
  },
  {
   "cell_type": "code",
   "execution_count": 4,
   "metadata": {},
   "outputs": [
    {
     "data": {
      "text/html": [
       "<div>\n",
       "<style scoped>\n",
       "    .dataframe tbody tr th:only-of-type {\n",
       "        vertical-align: middle;\n",
       "    }\n",
       "\n",
       "    .dataframe tbody tr th {\n",
       "        vertical-align: top;\n",
       "    }\n",
       "\n",
       "    .dataframe thead th {\n",
       "        text-align: right;\n",
       "    }\n",
       "</style>\n",
       "<table border=\"1\" class=\"dataframe\">\n",
       "  <thead>\n",
       "    <tr style=\"text-align: right;\">\n",
       "      <th></th>\n",
       "      <th>query</th>\n",
       "      <th>source</th>\n",
       "      <th>product_description</th>\n",
       "      <th>product_link</th>\n",
       "    </tr>\n",
       "    <tr>\n",
       "      <th>_unit_id</th>\n",
       "      <th></th>\n",
       "      <th></th>\n",
       "      <th></th>\n",
       "      <th></th>\n",
       "    </tr>\n",
       "  </thead>\n",
       "  <tbody>\n",
       "    <tr>\n",
       "      <th>711160963</th>\n",
       "      <td>crocs</td>\n",
       "      <td>amazon</td>\n",
       "      <td>The tote gets a luxurious upgrade with this cu...</td>\n",
       "      <td>http://www.overstock.com/Clothing-Shoes/Dasein...</td>\n",
       "    </tr>\n",
       "    <tr>\n",
       "      <th>711174471</th>\n",
       "      <td>gold toe socks</td>\n",
       "      <td>flipkart</td>\n",
       "      <td>A great pair of socks for your little girl fro...</td>\n",
       "      <td>http://www.walmart.com/ip/Tic-Tac-Toe-Girls-Wh...</td>\n",
       "    </tr>\n",
       "    <tr>\n",
       "      <th>711175135</th>\n",
       "      <td>Watch women fossil</td>\n",
       "      <td>flipkart</td>\n",
       "      <td>Model: BQ1093. The shiny crystal studded appea...</td>\n",
       "      <td>http://www.walmart.com/ip/Fossil/43192544</td>\n",
       "    </tr>\n",
       "    <tr>\n",
       "      <th>711174853</th>\n",
       "      <td>Vanilla Scented Perfumes</td>\n",
       "      <td>flipkart</td>\n",
       "      <td>Givenchy Organza Perfume was originally design...</td>\n",
       "      <td>http://www.walmart.com/ip/Givenchy-Organza-Eau...</td>\n",
       "    </tr>\n",
       "    <tr>\n",
       "      <th>711165820</th>\n",
       "      <td>aroma diffuser</td>\n",
       "      <td>google.com</td>\n",
       "      <td>Humidifier, purifier, and aromatherapy diffuse...</td>\n",
       "      <td>http://www.shop.com/nbts/p1170519476-xinternal...</td>\n",
       "    </tr>\n",
       "  </tbody>\n",
       "</table>\n",
       "</div>"
      ],
      "text/plain": [
       "                              query      source  \\\n",
       "_unit_id                                          \n",
       "711160963                     crocs      amazon   \n",
       "711174471            gold toe socks    flipkart   \n",
       "711175135        Watch women fossil    flipkart   \n",
       "711174853  Vanilla Scented Perfumes    flipkart   \n",
       "711165820            aroma diffuser  google.com   \n",
       "\n",
       "                                         product_description  \\\n",
       "_unit_id                                                       \n",
       "711160963  The tote gets a luxurious upgrade with this cu...   \n",
       "711174471  A great pair of socks for your little girl fro...   \n",
       "711175135  Model: BQ1093. The shiny crystal studded appea...   \n",
       "711174853  Givenchy Organza Perfume was originally design...   \n",
       "711165820  Humidifier, purifier, and aromatherapy diffuse...   \n",
       "\n",
       "                                                product_link  \n",
       "_unit_id                                                      \n",
       "711160963  http://www.overstock.com/Clothing-Shoes/Dasein...  \n",
       "711174471  http://www.walmart.com/ip/Tic-Tac-Toe-Girls-Wh...  \n",
       "711175135          http://www.walmart.com/ip/Fossil/43192544  \n",
       "711174853  http://www.walmart.com/ip/Givenchy-Organza-Eau...  \n",
       "711165820  http://www.shop.com/nbts/p1170519476-xinternal...  "
      ]
     },
     "execution_count": 4,
     "metadata": {},
     "output_type": "execute_result"
    }
   ],
   "source": [
    "df.head()"
   ]
  },
  {
   "cell_type": "markdown",
   "metadata": {},
   "source": [
    "### Check for missing values"
   ]
  },
  {
   "cell_type": "code",
   "execution_count": 5,
   "metadata": {},
   "outputs": [
    {
     "data": {
      "text/html": [
       "<div>\n",
       "<style scoped>\n",
       "    .dataframe tbody tr th:only-of-type {\n",
       "        vertical-align: middle;\n",
       "    }\n",
       "\n",
       "    .dataframe tbody tr th {\n",
       "        vertical-align: top;\n",
       "    }\n",
       "\n",
       "    .dataframe thead th {\n",
       "        text-align: right;\n",
       "    }\n",
       "</style>\n",
       "<table border=\"1\" class=\"dataframe\">\n",
       "  <thead>\n",
       "    <tr style=\"text-align: right;\">\n",
       "      <th></th>\n",
       "      <th>query</th>\n",
       "      <th>product_description</th>\n",
       "    </tr>\n",
       "    <tr>\n",
       "      <th>_unit_id</th>\n",
       "      <th></th>\n",
       "      <th></th>\n",
       "    </tr>\n",
       "  </thead>\n",
       "  <tbody>\n",
       "    <tr>\n",
       "      <th>711160963</th>\n",
       "      <td>crocs</td>\n",
       "      <td>The tote gets a luxurious upgrade with this cu...</td>\n",
       "    </tr>\n",
       "    <tr>\n",
       "      <th>711174471</th>\n",
       "      <td>gold toe socks</td>\n",
       "      <td>A great pair of socks for your little girl fro...</td>\n",
       "    </tr>\n",
       "    <tr>\n",
       "      <th>711175135</th>\n",
       "      <td>Watch women fossil</td>\n",
       "      <td>Model: BQ1093. The shiny crystal studded appea...</td>\n",
       "    </tr>\n",
       "    <tr>\n",
       "      <th>711174853</th>\n",
       "      <td>Vanilla Scented Perfumes</td>\n",
       "      <td>Givenchy Organza Perfume was originally design...</td>\n",
       "    </tr>\n",
       "    <tr>\n",
       "      <th>711165820</th>\n",
       "      <td>aroma diffuser</td>\n",
       "      <td>Humidifier, purifier, and aromatherapy diffuse...</td>\n",
       "    </tr>\n",
       "  </tbody>\n",
       "</table>\n",
       "</div>"
      ],
      "text/plain": [
       "                              query  \\\n",
       "_unit_id                              \n",
       "711160963                     crocs   \n",
       "711174471            gold toe socks   \n",
       "711175135        Watch women fossil   \n",
       "711174853  Vanilla Scented Perfumes   \n",
       "711165820            aroma diffuser   \n",
       "\n",
       "                                         product_description  \n",
       "_unit_id                                                      \n",
       "711160963  The tote gets a luxurious upgrade with this cu...  \n",
       "711174471  A great pair of socks for your little girl fro...  \n",
       "711175135  Model: BQ1093. The shiny crystal studded appea...  \n",
       "711174853  Givenchy Organza Perfume was originally design...  \n",
       "711165820  Humidifier, purifier, and aromatherapy diffuse...  "
      ]
     },
     "execution_count": 5,
     "metadata": {},
     "output_type": "execute_result"
    }
   ],
   "source": [
    "df = df.dropna()\n",
    "x1 = df[['query','product_description']]\n",
    "x1.head()"
   ]
  },
  {
   "cell_type": "markdown",
   "metadata": {},
   "source": [
    "#### Feature extraction from product descriptions and query\n",
    "\n",
    "Converting the text in product description and search query into numerical data for analysis.<br>\n",
    "The text is converted into a term-frequency-inverse-document-frequency vector (tf-idf vector) for further analysis.\n",
    "The text is preprocessed and stopwords are removed from it.<br>\n",
    "This is done by creating a TfidfVectorizer object and fitting the query and product description column of dataset to the vectorizer.This creates a features dictionary whose values helps in transforming the rows in the dataset into tfidf vectors.<br>\n",
    "A sparse matrix with float values is returned."
   ]
  },
  {
   "cell_type": "code",
   "execution_count": 6,
   "metadata": {},
   "outputs": [
    {
     "data": {
      "text/plain": [
       "<509x142 sparse matrix of type '<class 'numpy.float64'>'\n",
       "\twith 1132 stored elements in Compressed Sparse Row format>"
      ]
     },
     "execution_count": 6,
     "metadata": {},
     "output_type": "execute_result"
    }
   ],
   "source": [
    "vectorizer = TfidfVectorizer(stop_words = 'english')\n",
    "x = vectorizer.fit_transform(x1['query'],x1['product_description'])\n",
    "x"
   ]
  },
  {
   "cell_type": "markdown",
   "metadata": {},
   "source": [
    "### Feature Names\n",
    "These values are the keys of the feature dictionary."
   ]
  },
  {
   "cell_type": "code",
   "execution_count": 7,
   "metadata": {},
   "outputs": [
    {
     "name": "stdout",
     "output_type": "stream",
     "text": [
      "['15', '49ers', 'acoustic', 'adidas', 'aroma', 'bag', 'bags', 'batteries', 'bedspreads', 'bike', 'bird', 'black', 'blue', 'boot', 'boots', 'bras', 'brett', 'candle', 'chairs', 'clamp', 'clothes', 'coffee', 'conrad', 'cooker', 'cookware', 'corded', 'cowboy', 'cream', 'crocs', 'dc', 'diamond', 'diffuser', 'dinner', 'double', 'drawer', 'dress', 'dresses', 'drive', 'earbuds', 'ecco', 'eye', 'face', 'fair', 'favre', 'feeder', 'fifa', 'foam', 'fossil', 'fragance', 'francisco', 'gold', 'grinder', 'guitar', 'hard', 'headphones', 'headset', 'high', 'holders', 'ice', 'jeans', 'jersey', 'kitchen', 'kitchenaid', 'laptop', 'lauren', 'lc', 'led', 'lenovo', 'levis', 'lock', 'maker', 'mat', 'memory', 'mens', 'minecraft', 'mixer', 'monitor', 'mouse', 'mutant', 'necklace', 'nike', 'ninja', 'ny', 'organizer', 'oven', 'panasonic', 'pants', 'perfumes', 'pillow', 'pirates', 'pittsburgh', 'plain', 'plantronics', 'playstation', 'polarized', 'portable', 'pressure', 'rachel', 'rack', 'rain', 'ray', 'rechargable', 'ring', 'routers', 'rugs', 'runner', 'san', 'sandals', 'scented', 'seed', 'set', 'shaver', 'shirts', 'shoes', 'silver', 'skechers', 'sleeping', 'snow', 'socks', 'spiderman', 'stroller', 'sunglasses', 'sword', 'table', 'teenage', 'titans', 'toaster', 'toddler', 'toe', 'tote', 'turtles', 'vanilla', 'vanity', 'watch', 'white', 'wine', 'wireless', 'women', 'womens', 'workout', 'yellow', 'yoga']\n"
     ]
    }
   ],
   "source": [
    "print(vectorizer.get_feature_names())"
   ]
  },
  {
   "cell_type": "markdown",
   "metadata": {},
   "source": [
    "## Visualizing product clusters in subset of data\n",
    "A kmeans object is created with numnber of clusters = 10.<br>\n",
    "We can observe words with similar characteristics being grouped into  different clusters in the graph. "
   ]
  },
  {
   "cell_type": "code",
   "execution_count": 8,
   "metadata": {},
   "outputs": [
    {
     "data": {
      "image/png": "[encoded data removed]",
      "text/plain": [
       "<Figure size 432x288 with 1 Axes>"
      ]
     },
     "metadata": {
      "needs_background": "light"
     },
     "output_type": "display_data"
    }
   ],
   "source": [
    "kmeans = KMeans(n_clusters = 10, init = 'k-means++')\n",
    "y_kmeans = kmeans.fit_predict(x)\n",
    "plt.plot(y_kmeans, \".\")\n",
    "plt.show()"
   ]
  },
  {
   "cell_type": "markdown",
   "metadata": {},
   "source": [
    "#### Top words in each cluster based on product description and query term\n",
    "The model is fitted with optimal number of clusters(=8, found out by comparing wcss with the number of clusters).<br>\n",
    "The top 10 words within each cluster is printed out.We can see words like adidas,shoes,dress,crocs etc being grouped together in one cluster as they have similar meaning. Similarly, words with near meaning are grouped into different clusters."
   ]
  },
  {
   "cell_type": "code",
   "execution_count": 9,
   "metadata": {},
   "outputs": [
    {
     "name": "stdout",
     "output_type": "stream",
     "text": [
      "Top terms per cluster:\n",
      "Cluster 0:\n",
      " playstation\n",
      " levis\n",
      " shoes\n",
      " dress\n",
      " cream\n",
      " crocs\n",
      " nike\n",
      " gold\n",
      " mixer\n",
      " pittsburgh\n",
      "Cluster 1:\n",
      " silver\n",
      " ring\n",
      " necklace\n",
      " jeans\n",
      " fragance\n",
      " fossil\n",
      " foam\n",
      " fifa\n",
      " feeder\n",
      " favre\n",
      "Cluster 2:\n",
      " boots\n",
      " cowboy\n",
      " snow\n",
      " feeder\n",
      " francisco\n",
      " fragance\n",
      " fossil\n",
      " foam\n",
      " fifa\n",
      " yoga\n",
      "Cluster 3:\n",
      " adidas\n",
      " fragance\n",
      " pants\n",
      " yoga\n",
      " feeder\n",
      " gold\n",
      " francisco\n",
      " fossil\n",
      " foam\n",
      " fifa\n",
      "Cluster 4:\n",
      " dresses\n",
      " conrad\n",
      " lc\n",
      " lauren\n",
      " feeder\n",
      " francisco\n",
      " fragance\n",
      " fossil\n",
      " foam\n",
      " fifa\n",
      "Cluster 5:\n",
      " grinder\n",
      " coffee\n",
      " dress\n",
      " gold\n",
      " francisco\n",
      " fragance\n",
      " fossil\n",
      " foam\n",
      " fifa\n",
      " yoga\n",
      "Cluster 6:\n",
      " drawer\n",
      " organizer\n",
      " guitar\n",
      " gold\n",
      " francisco\n",
      " fragance\n",
      " fossil\n",
      " foam\n",
      " fifa\n",
      " feeder\n",
      "Cluster 7:\n",
      " mouse\n",
      " wireless\n",
      " favre\n",
      " gold\n",
      " francisco\n",
      " fragance\n",
      " fossil\n",
      " foam\n",
      " fifa\n",
      " feeder\n"
     ]
    }
   ],
   "source": [
    "# # Optimal clusters is \n",
    "\n",
    "true_k = 8\n",
    "\n",
    "model = KMeans(n_clusters=true_k, init='k-means++', max_iter=200, n_init=10)\n",
    "model.fit(x)\n",
    "\n",
    "print(\"Top terms per cluster:\")\n",
    "order_centroids = model.cluster_centers_.argsort()[:, ::-1]\n",
    "terms = vectorizer.get_feature_names()\n",
    "for i in range(true_k):\n",
    "    print(\"Cluster %d:\" % i),\n",
    "    for ind in order_centroids[i, :10]:\n",
    "        print(' %s' % terms[ind]),\n",
    "    print\n",
    "\n"
   ]
  },
  {
   "cell_type": "markdown",
   "metadata": {},
   "source": [
    "#### Predicting clusters based on key search words\n",
    "\n",
    "A random search term is taken and and transformed into numerical data. It is then passed to the model to predict the cluster number to which it belongs."
   ]
  },
  {
   "cell_type": "code",
   "execution_count": 10,
   "metadata": {},
   "outputs": [
    {
     "name": "stdout",
     "output_type": "stream",
     "text": [
      "Cluster ID:\n",
      "[0]\n"
     ]
    }
   ],
   "source": [
    "print(\"Cluster ID:\")\n",
    "Y = vectorizer.transform([\"playstation\"])\n",
    "prediction = model.predict(Y)\n",
    "print(prediction)"
   ]
  },
  {
   "cell_type": "markdown",
   "metadata": {},
   "source": [
    "## Adding cluster data column to the original dataframe\n",
    "A new column named cluster is created in the dataframe which contains the cluster id of values in each row.<br>\n",
    "This is done by assigning the label attribute value of the model object to cluster column."
   ]
  },
  {
   "cell_type": "code",
   "execution_count": 11,
   "metadata": {},
   "outputs": [],
   "source": [
    "df['cluster'] = model.labels_"
   ]
  },
  {
   "cell_type": "code",
   "execution_count": 12,
   "metadata": {},
   "outputs": [
    {
     "data": {
      "text/plain": [
       "0    389\n",
       "2     22\n",
       "1     21\n",
       "3     20\n",
       "4     17\n",
       "6     15\n",
       "5     14\n",
       "7     11\n",
       "Name: cluster, dtype: int64"
      ]
     },
     "execution_count": 12,
     "metadata": {},
     "output_type": "execute_result"
    }
   ],
   "source": [
    "df['cluster'].value_counts()"
   ]
  },
  {
   "cell_type": "code",
   "execution_count": 13,
   "metadata": {},
   "outputs": [
    {
     "data": {
      "text/html": [
       "<div>\n",
       "<style scoped>\n",
       "    .dataframe tbody tr th:only-of-type {\n",
       "        vertical-align: middle;\n",
       "    }\n",
       "\n",
       "    .dataframe tbody tr th {\n",
       "        vertical-align: top;\n",
       "    }\n",
       "\n",
       "    .dataframe thead th {\n",
       "        text-align: right;\n",
       "    }\n",
       "</style>\n",
       "<table border=\"1\" class=\"dataframe\">\n",
       "  <thead>\n",
       "    <tr style=\"text-align: right;\">\n",
       "      <th></th>\n",
       "      <th>query</th>\n",
       "      <th>source</th>\n",
       "      <th>product_description</th>\n",
       "      <th>product_link</th>\n",
       "      <th>cluster</th>\n",
       "    </tr>\n",
       "    <tr>\n",
       "      <th>_unit_id</th>\n",
       "      <th></th>\n",
       "      <th></th>\n",
       "      <th></th>\n",
       "      <th></th>\n",
       "      <th></th>\n",
       "    </tr>\n",
       "  </thead>\n",
       "  <tbody>\n",
       "    <tr>\n",
       "      <th>711165299</th>\n",
       "      <td>eye cream</td>\n",
       "      <td>google.com</td>\n",
       "      <td>A long-wearing, highly pigmented eye color tha...</td>\n",
       "      <td>http://www.shop.com/Motives+reg+Luxe+Cr+egrave...</td>\n",
       "      <td>0</td>\n",
       "    </tr>\n",
       "    <tr>\n",
       "      <th>711175103</th>\n",
       "      <td>LED monitor</td>\n",
       "      <td>flipkart</td>\n",
       "      <td>See what you're doing crisply and clearly on t...</td>\n",
       "      <td>http://www.walmart.com/ip/Acer-UM.VH6AA.004/41...</td>\n",
       "      <td>0</td>\n",
       "    </tr>\n",
       "    <tr>\n",
       "      <th>711165834</th>\n",
       "      <td>drawer organizer</td>\n",
       "      <td>google.com</td>\n",
       "      <td>* Drawer organizer * Sturdy * Great for drawer...</td>\n",
       "      <td>http://www.shop.com/Whitmor+6+Section+Clear+Dr...</td>\n",
       "      <td>6</td>\n",
       "    </tr>\n",
       "    <tr>\n",
       "      <th>711174539</th>\n",
       "      <td>nike womens</td>\n",
       "      <td>flipkart</td>\n",
       "      <td>Posh and sporty, these women's Gaze 2 shades f...</td>\n",
       "      <td>http://www.walmart.com/ip/Nike-Women-s-Gaze-2-...</td>\n",
       "      <td>0</td>\n",
       "    </tr>\n",
       "    <tr>\n",
       "      <th>711174343</th>\n",
       "      <td>yellow dress</td>\n",
       "      <td>flipkart</td>\n",
       "      <td>How cute is this floral dress from the designe...</td>\n",
       "      <td>http://www.walmart.com/ip/Lipstik-Little-Girls...</td>\n",
       "      <td>0</td>\n",
       "    </tr>\n",
       "    <tr>\n",
       "      <th>711174987</th>\n",
       "      <td>spiderman</td>\n",
       "      <td>flipkart</td>\n",
       "      <td>Machine Wash Tumble Dry</td>\n",
       "      <td>http://www.walmart.com/ip/LIC-P5-NS-SPIDERMAN-...</td>\n",
       "      <td>0</td>\n",
       "    </tr>\n",
       "    <tr>\n",
       "      <th>711174433</th>\n",
       "      <td>Rechargable batteries</td>\n",
       "      <td>flipkart</td>\n",
       "      <td>Help keep your electronic devices powered with...</td>\n",
       "      <td>http://www.walmart.com/ip/Panasonic-Cordless-T...</td>\n",
       "      <td>0</td>\n",
       "    </tr>\n",
       "    <tr>\n",
       "      <th>711175743</th>\n",
       "      <td>wine rack</td>\n",
       "      <td>flipkart</td>\n",
       "      <td>This is handsome by itself or you can combine ...</td>\n",
       "      <td>http://www.walmart.com/ip/Winsome-Ancona-Modul...</td>\n",
       "      <td>0</td>\n",
       "    </tr>\n",
       "    <tr>\n",
       "      <th>711160959</th>\n",
       "      <td>crocs</td>\n",
       "      <td>amazon</td>\n",
       "      <td>Update classic style with modern comfort in th...</td>\n",
       "      <td>http://www.overstock.com/Clothing-Shoes/Crocs-...</td>\n",
       "      <td>0</td>\n",
       "    </tr>\n",
       "    <tr>\n",
       "      <th>711165626</th>\n",
       "      <td>nike womens</td>\n",
       "      <td>google.com</td>\n",
       "      <td>A modern rendition on a track-and-field classi...</td>\n",
       "      <td>http://www.shop.com/Nike+Tempo+Modern+Embossed...</td>\n",
       "      <td>0</td>\n",
       "    </tr>\n",
       "  </tbody>\n",
       "</table>\n",
       "</div>"
      ],
      "text/plain": [
       "                           query      source  \\\n",
       "_unit_id                                       \n",
       "711165299              eye cream  google.com   \n",
       "711175103            LED monitor    flipkart   \n",
       "711165834       drawer organizer  google.com   \n",
       "711174539            nike womens    flipkart   \n",
       "711174343           yellow dress    flipkart   \n",
       "711174987              spiderman    flipkart   \n",
       "711174433  Rechargable batteries    flipkart   \n",
       "711175743              wine rack    flipkart   \n",
       "711160959                  crocs      amazon   \n",
       "711165626            nike womens  google.com   \n",
       "\n",
       "                                         product_description  \\\n",
       "_unit_id                                                       \n",
       "711165299  A long-wearing, highly pigmented eye color tha...   \n",
       "711175103  See what you're doing crisply and clearly on t...   \n",
       "711165834  * Drawer organizer * Sturdy * Great for drawer...   \n",
       "711174539  Posh and sporty, these women's Gaze 2 shades f...   \n",
       "711174343  How cute is this floral dress from the designe...   \n",
       "711174987                            Machine Wash Tumble Dry   \n",
       "711174433  Help keep your electronic devices powered with...   \n",
       "711175743  This is handsome by itself or you can combine ...   \n",
       "711160959  Update classic style with modern comfort in th...   \n",
       "711165626  A modern rendition on a track-and-field classi...   \n",
       "\n",
       "                                                product_link  cluster  \n",
       "_unit_id                                                               \n",
       "711165299  http://www.shop.com/Motives+reg+Luxe+Cr+egrave...        0  \n",
       "711175103  http://www.walmart.com/ip/Acer-UM.VH6AA.004/41...        0  \n",
       "711165834  http://www.shop.com/Whitmor+6+Section+Clear+Dr...        6  \n",
       "711174539  http://www.walmart.com/ip/Nike-Women-s-Gaze-2-...        0  \n",
       "711174343  http://www.walmart.com/ip/Lipstik-Little-Girls...        0  \n",
       "711174987  http://www.walmart.com/ip/LIC-P5-NS-SPIDERMAN-...        0  \n",
       "711174433  http://www.walmart.com/ip/Panasonic-Cordless-T...        0  \n",
       "711175743  http://www.walmart.com/ip/Winsome-Ancona-Modul...        0  \n",
       "711160959  http://www.overstock.com/Clothing-Shoes/Crocs-...        0  \n",
       "711165626  http://www.shop.com/Nike+Tempo+Modern+Embossed...        0  "
      ]
     },
     "execution_count": 13,
     "metadata": {},
     "output_type": "execute_result"
    }
   ],
   "source": [
    "df.sample(n=10)"
   ]
  },
  {
   "cell_type": "markdown",
   "metadata": {},
   "source": [
    "# Recommendar Function\n",
    "The function takes a search term and returns the link of product in walmart/flipkart.Also the function returns products similar to the search term.Once a cluster is identified based on the user's search words, the recommendation system displays links of items from the corresponding product clusters based on the product descriptions.  "
   ]
  },
  {
   "cell_type": "code",
   "execution_count": 14,
   "metadata": {},
   "outputs": [],
   "source": [
    "def recomm_links(user_query,vectorizer=vectorizer,df=df):\n",
    "    y = vectorizer.transform([user_query])\n",
    "    cluster_id = model.predict(y)\n",
    "    print(cluster_id)\n",
    "    r = df.loc[(df['source']=='flipkart') & (df['cluster']==cluster_id[0]) & (df['query']==user_query)]\n",
    "    r1 = df.loc[(df['source']=='flipkart') & (df['cluster']==cluster_id[0])]\n",
    "    print(\"Same Product\",r['product_link'])\n",
    "    print(\"========================================\")\n",
    "    print(\"Similar Product\",r1['product_link'].sample(n=10))"
   ]
  },
  {
   "cell_type": "code",
   "execution_count": 15,
   "metadata": {},
   "outputs": [
    {
     "name": "stdout",
     "output_type": "stream",
     "text": [
      "[0]\n",
      "Same Product _unit_id\n",
      "711174237    http://www.walmart.com/ip/Lipstik-Little-Girls...\n",
      "711174234    http://www.walmart.com/ip/The-Rain-Kids-Girls-...\n",
      "711174238    http://www.walmart.com/ip/Lipstik-Little-Girls...\n",
      "711174236    http://www.walmart.com/ip/Lipstik-Little-Girls...\n",
      "711174235    http://www.walmart.com/ip/Lipstik-Little-Girls...\n",
      "Name: product_link, dtype: object\n",
      "========================================\n",
      "Similar Product _unit_id\n",
      "711174274    http://www.walmart.com/ip/Women-s-Printed-Trel...\n",
      "711175739    http://www.walmart.com/ip/Prepac-ESOW-0200-1-F...\n",
      "711174640    http://www.walmart.com/ip/Columbus-Blue-Jacket...\n",
      "711174397    http://www.walmart.com/ip/Signature-by-Levi-St...\n",
      "711174533    http://www.walmart.com/ip/Pittsburgh-Pirates-s...\n",
      "711174343    http://www.walmart.com/ip/Lipstik-Little-Girls...\n",
      "711175882    http://www.walmart.com/ip/4-port-Sunflower-Mix...\n",
      "711174541    http://www.walmart.com/ip/Nike-Golf-Women-s-2-...\n",
      "711174339    http://www.walmart.com/ip/Rain-Kids-Girls-10-Y...\n",
      "711174394    http://www.walmart.com/ip/Signature-by-Levi-St...\n",
      "Name: product_link, dtype: object\n"
     ]
    }
   ],
   "source": [
    "recomm_links('gold dress')"
   ]
  },
  {
   "cell_type": "code",
   "execution_count": null,
   "metadata": {},
   "outputs": [],
   "source": []
  }
 ],
 "metadata": {
  "kernelspec": {
   "display_name": "Python 3",
   "language": "python",
   "name": "python3"
  },
  "language_info": {
   "codemirror_mode": {
    "name": "ipython",
    "version": 3
   },
   "file_extension": ".py",
   "mimetype": "text/x-python",
   "name": "python",
   "nbconvert_exporter": "python",
   "pygments_lexer": "ipython3",
   "version": "3.7.6"
  }
 },
 "nbformat": 4,
 "nbformat_minor": 4
}
